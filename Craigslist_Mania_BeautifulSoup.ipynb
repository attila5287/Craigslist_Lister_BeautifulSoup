{
 "cells": [
  {
   "cell_type": "code",
   "execution_count": 3,
   "metadata": {},
   "outputs": [],
   "source": [
    "# Dependencies\n",
    "from bs4 import BeautifulSoup\n",
    "import requests\n",
    "import os"
   ]
  },
  {
   "cell_type": "code",
   "execution_count": 5,
   "metadata": {},
   "outputs": [
    {
     "name": "stdout",
     "output_type": "stream",
     "text": [
      "https://denver.craigslist.org/search/sss?sort=rel&query=piano\n",
      "1 :  88-KEY ACROSONIC PIANO IN A BEAUTIFUL CREAM WHITE COLOR\n",
      "\t $200\n",
      "\t  (LITTLETON)\n",
      "\t Nov 12\n",
      "\t https://denver.craigslist.org/msg/d/88-key-acrosonic-piano-in/6741922021.html\n",
      "\t- - - - - - - - - - - - - - - - - - - - - - - - - - - - - - - - - - - - \n",
      "2 :  Piano stand quick lock\n",
      "\t $30\n",
      "\t  (Englewood)\n",
      "\t Nov 12\n",
      "\t https://denver.craigslist.org/msg/d/piano-stand-quick-lock/6741897665.html\n",
      "\t- - - - - - - - - - - - - - - - - - - - - - - - - - - - - - - - - - - - \n",
      "3 :  Antique piano\n",
      "\t $100\n",
      "\t  (Littleton)\n",
      "\t Nov 12\n",
      "\t https://denver.craigslist.org/atq/d/antique-piano/6737533537.html\n",
      "\t- - - - - - - - - - - - - - - - - - - - - - - - - - - - - - - - - - - - \n",
      "4 :  BEAUTIFUL Baldwin Acrosonic Piano *FREE DELIVERY\n",
      "\t $650\n",
      "\t  (Lakewood)\n",
      "\t Nov 12\n",
      "\t https://denver.craigslist.org/msg/d/beautiful-baldwin-acrosonic/6745083620.html\n",
      "\t- - - - - - - - - - - - - - - - - - - - - - - - - - - - - - - - - - - - \n",
      "5 :  GORGEOUS Victor Upright Piano *FREE DELIVERY\n",
      "\t $650\n",
      "\t  (Lakewood)\n",
      "\t Nov 12\n",
      "\t https://denver.craigslist.org/msg/d/gorgeous-victor-upright-piano/6745086125.html\n",
      "\t- - - - - - - - - - - - - - - - - - - - - - - - - - - - - - - - - - - - \n",
      "6 :  STEINWAY GRAND PIANO WANTED!!!\n",
      "\n",
      " att_error: 'NoneType' object has no attribute 'text'\n"
     ]
    }
   ],
   "source": [
    "def craigslist_mania(item,count):\n",
    "    base_url_ = 'https://denver.craigslist.org/search/sss?sort=rel&query='\n",
    "    url_= base_url_ + item\n",
    "    print(url_)\n",
    "    response_ = requests.get(url_)\n",
    "    soup_ = BeautifulSoup(response_.text, 'html.parser')\n",
    "    results = soup_.find_all('li', class_=\"result-row\")        \n",
    "\n",
    "    try:\n",
    "        for i in range(0,count):\n",
    "            print(i+1,\": \",results[i].find('a', class_=\"result-title\").text)\n",
    "            print(\"\\t\", results[i].find('span', class_=\"result-price\").text)\n",
    "            print(\"\\t\", results[i].find('span', class_=\"result-hood\").text)\n",
    "            print(\"\\t\", results[i].find('time', class_=\"result-date\").text)\n",
    "            print('\\t', results[i].a['href'])\n",
    "            print('\\t- - - - - - - - - - - - - - - - - - - - - - - - - - - - - - - - - - - - ')\n",
    "            i+=1\n",
    "\n",
    "    except AttributeError as e:\n",
    "            print(\"\\n att_error:\",e)\n",
    "        \n",
    "    return None\n",
    "#  - - - - \n",
    "# test_function\n",
    "# guitar='guitar'\n",
    "craigslist_mania('piano',10)"
   ]
  },
  {
   "cell_type": "code",
   "execution_count": 6,
   "metadata": {},
   "outputs": [
    {
     "name": "stdout",
     "output_type": "stream",
     "text": [
      "https://denver.craigslist.org/search/sss?sort=rel&query=guitar\n",
      "1 :  National Resophonic Reso-lectric  Guitar Mid 90's Natural\n",
      "\t $2000\n",
      "\t  (Golden)\n",
      "\t Nov 12\n",
      "\t https://denver.craigslist.org/msg/d/national-resophonic-reso/6733582639.html\n",
      "\t- - - - - - - - - - - - - - - - - - - - - - - - - - - - - - - - - - - - \n",
      "2 :  Rick Turner RS-12 Renaissance Baritone 12 string guitar\n",
      "\t $2750\n",
      "\t  (Golden)\n",
      "\t Nov 12\n",
      "\t https://denver.craigslist.org/msg/d/rick-turner-rs-12-renaissance/6733583002.html\n",
      "\t- - - - - - - - - - - - - - - - - - - - - - - - - - - - - - - - - - - - \n",
      "3 :  Kay Kraft Venetian Style C vintage acoustic guitar 1930s\n",
      "\t $2000\n",
      "\t  (Golden)\n",
      "\t Nov 12\n",
      "\t https://denver.craigslist.org/msg/d/kay-kraft-venetian-style/6729960585.html\n",
      "\t- - - - - - - - - - - - - - - - - - - - - - - - - - - - - - - - - - - - \n",
      "4 :  Taylor 12 String Leo Kottke Signature Model Guitar\n",
      "\t $2100\n",
      "\t  (Golden)\n",
      "\t Nov 12\n",
      "\t https://denver.craigslist.org/msg/d/taylor-12-string-leo-kottke/6733133451.html\n",
      "\t- - - - - - - - - - - - - - - - - - - - - - - - - - - - - - - - - - - - \n",
      "5 :  Suhr Classic T Pro Tele Guitar\n",
      "\t $2200\n",
      "\t  (Golden)\n",
      "\t Nov 12\n",
      "\t https://denver.craigslist.org/msg/d/suhr-classic-pro-tele-guitar/6733582387.html\n",
      "\t- - - - - - - - - - - - - - - - - - - - - - - - - - - - - - - - - - - - \n",
      "6 :  2001 Squier Stagemaster 7 String Floyd V2 HH Guitar Black Metallic\n",
      "\t $250\n",
      "\t  (Littleton)\n",
      "\t Nov 12\n",
      "\t https://denver.craigslist.org/msg/d/2001-squier-stagemaster-7/6744759893.html\n",
      "\t- - - - - - - - - - - - - - - - - - - - - - - - - - - - - - - - - - - - \n",
      "7 :  Breedlove Legacy Cocobolo Dreadnaught Guitar and Case\n",
      "\t $1450\n",
      "\t  (Highlands Ranch)\n",
      "\t Nov 12\n",
      "\t https://denver.craigslist.org/msg/d/breedlove-legacy-cocobolo/6742972673.html\n",
      "\t- - - - - - - - - - - - - - - - - - - - - - - - - - - - - - - - - - - - \n",
      "8 :  *REDUCED* Gretsch Style Eastwood Guitar. Seriously NEW! Yo Daddio!\n",
      "\t $425\n",
      "\t  (Centennial)\n",
      "\t Nov 12\n",
      "\t https://denver.craigslist.org/msg/d/reduced-gretsch-style/6727838887.html\n",
      "\t- - - - - - - - - - - - - - - - - - - - - - - - - - - - - - - - - - - - \n",
      "9 :  Toyota Corolla 1996...trade for electric guitar!\n",
      "\t $1000\n",
      "\t  (DENVER)\n",
      "\t Nov 12\n",
      "\t https://denver.craigslist.org/msg/d/toyota-corolla-1996trade-for/6731964323.html\n",
      "\t- - - - - - - - - - - - - - - - - - - - - - - - - - - - - - - - - - - - \n",
      "10 :  Gretsch TKL Hollowbody Electric Guitar Acoustic Guitar Hard Case\n",
      "\t $90\n",
      "\t  (Littleton)\n",
      "\t Nov 12\n",
      "\t https://denver.craigslist.org/msg/d/gretsch-tkl-hollowbody/6740942621.html\n",
      "\t- - - - - - - - - - - - - - - - - - - - - - - - - - - - - - - - - - - - \n"
     ]
    }
   ],
   "source": [
    "craigslist_mania('guitar',10)"
   ]
  }
 ],
 "metadata": {
  "kernelspec": {
   "display_name": "Python 3",
   "language": "python",
   "name": "python3"
  },
  "language_info": {
   "codemirror_mode": {
    "name": "ipython",
    "version": 3
   },
   "file_extension": ".py",
   "mimetype": "text/x-python",
   "name": "python",
   "nbconvert_exporter": "python",
   "pygments_lexer": "ipython3",
   "version": "3.6.5"
  },
  "varInspector": {
   "cols": {
    "lenName": 16,
    "lenType": 16,
    "lenVar": 40
   },
   "kernels_config": {
    "python": {
     "delete_cmd_postfix": "",
     "delete_cmd_prefix": "del ",
     "library": "var_list.py",
     "varRefreshCmd": "print(var_dic_list())"
    },
    "r": {
     "delete_cmd_postfix": ") ",
     "delete_cmd_prefix": "rm(",
     "library": "var_list.r",
     "varRefreshCmd": "cat(var_dic_list()) "
    }
   },
   "types_to_exclude": [
    "module",
    "function",
    "builtin_function_or_method",
    "instance",
    "_Feature"
   ],
   "window_display": false
  }
 },
 "nbformat": 4,
 "nbformat_minor": 2
}
